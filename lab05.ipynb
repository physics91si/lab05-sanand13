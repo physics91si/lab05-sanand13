{
 "cells": [
  {
   "cell_type": "code",
   "execution_count": 1,
   "metadata": {},
   "outputs": [],
   "source": [
    "# from __future__ import print_function, division"
   ]
  },
  {
   "cell_type": "code",
   "execution_count": 2,
   "metadata": {},
   "outputs": [],
   "source": [
    "import numpy as np\n",
    "import matplotlib.pyplot as plt"
   ]
  },
  {
   "cell_type": "markdown",
   "metadata": {},
   "source": [
    "# Part 1"
   ]
  },
  {
   "cell_type": "code",
   "execution_count": 3,
   "metadata": {},
   "outputs": [],
   "source": [
    "def integrate(y, dx):\n",
    "    \"\"\"\n",
    "    Takes an array of y-values and a step size dx of the corresponding x values \n",
    "    and numerically integrates the function, returning the final value\n",
    "    \"\"\"\n",
    "    counter = 0\n",
    "    for yi in y:\n",
    "        counter += dx * yi\n",
    "    return counter"
   ]
  },
  {
   "cell_type": "code",
   "execution_count": 4,
   "metadata": {},
   "outputs": [],
   "source": [
    "def plot_fn(xarr, yarr, title=''):\n",
    "    \"\"\"\n",
    "    Basic plotting function\n",
    "    \"\"\"\n",
    "    plt.plot(xarr, yarr)\n",
    "    plt.title(title)\n",
    "    plt.xlabel('x')\n",
    "    plt.ylabel('y')\n",
    "    plt.show()"
   ]
  },
  {
   "cell_type": "code",
   "execution_count": 5,
   "metadata": {},
   "outputs": [],
   "source": [
    "# TODO write code here to setup arrays x and y = sin(x) and then plot them by calling plot_fn"
   ]
  },
  {
   "cell_type": "code",
   "execution_count": 6,
   "metadata": {},
   "outputs": [],
   "source": [
    "# TODO then integrate y "
   ]
  },
  {
   "cell_type": "code",
   "execution_count": 7,
   "metadata": {},
   "outputs": [],
   "source": [
    "# TODO now use a np function to integrate y and compare"
   ]
  },
  {
   "cell_type": "code",
   "execution_count": 8,
   "metadata": {},
   "outputs": [],
   "source": [
    "# TODO find local maxima and minima of sinx from 0 to 6*pi"
   ]
  },
  {
   "cell_type": "markdown",
   "metadata": {},
   "source": [
    "# Part 2"
   ]
  },
  {
   "cell_type": "code",
   "execution_count": 9,
   "metadata": {},
   "outputs": [],
   "source": [
    "def wavepacket(x, k, sigma):\n",
    "    \"\"\"\n",
    "    This function creates a wavepacket on the interval defined by x with\n",
    "    wavevector k and standard deviation sigma.\n",
    "    \"\"\"\n",
    "    return np.sin(k*x) *  np.exp(-(x**2)/(2*sigma**2))"
   ]
  },
  {
   "cell_type": "code",
   "execution_count": 10,
   "metadata": {},
   "outputs": [],
   "source": [
    "def noisy_packet(x_values, k, sigma, noise_amplitude):\n",
    "    \"\"\"\n",
    "    This function returns a noisy Gaussian wavepacket with wave\n",
    "    vector k, standard deviation sigma and Gaussian noise of standard\n",
    "    deviation noise_amplitude.\n",
    "    \"\"\"\n",
    "    clean_y = wavepacket(x_values,k,sigma)\n",
    "    noisy_y = clean_y + noise_amplitude*np.random.randn(len(x_values))\n",
    "    return noisy_y"
   ]
  },
  {
   "cell_type": "code",
   "execution_count": 11,
   "metadata": {},
   "outputs": [
    {
     "ename": "SyntaxError",
     "evalue": "invalid syntax (<ipython-input-11-2de949894589>, line 9)",
     "output_type": "error",
     "traceback": [
      "\u001b[0;36m  File \u001b[0;32m\"<ipython-input-11-2de949894589>\"\u001b[0;36m, line \u001b[0;32m9\u001b[0m\n\u001b[0;31m    y_fft = # perform Fourier transform\u001b[0m\n\u001b[0m                                       ^\u001b[0m\n\u001b[0;31mSyntaxError\u001b[0m\u001b[0;31m:\u001b[0m invalid syntax\n"
     ]
    }
   ],
   "source": [
    "def clean_data(x_values,y_values):\n",
    "    \"\"\"\n",
    "    This function should take a set of y_values, perform the Fourier\n",
    "    transform on it, filter out the high frequency noise, transform the\n",
    "    signal back into real space, and return it.\n",
    "    \"\"\"\n",
    "\n",
    "    # TODO edit this function\n",
    "    y_fft = # perform Fourier transform\n",
    "    \n",
    "    low_pass_filter = np.ones(y_fft.shape) # build low pass filter for Fourier function\n",
    "    num_freq = y_fft.size\n",
    "    low_pass_filter[int(num_freq/25):num_freq] = 0\n",
    "    \n",
    "    return y_clean_values"
   ]
  },
  {
   "cell_type": "code",
   "execution_count": 12,
   "metadata": {},
   "outputs": [],
   "source": [
    "# TODO call noisy_packet() to get a Gaussian wave packet, \n",
    "# call clean_data() to apply a low pass filter to the data, and\n",
    "# finally plot the result using plot_fn"
   ]
  },
  {
   "cell_type": "markdown",
   "metadata": {},
   "source": [
    "# Part 3"
   ]
  },
  {
   "cell_type": "code",
   "execution_count": 15,
   "metadata": {},
   "outputs": [],
   "source": [
    "# TODO mask the arrays, then plot"
   ]
  },
  {
   "cell_type": "code",
   "execution_count": 16,
   "metadata": {},
   "outputs": [],
   "source": [
    "# TODO try to generate masked noisy data and then clean it"
   ]
  }
 ],
 "metadata": {
  "kernelspec": {
   "display_name": "Python 2",
   "language": "python",
   "name": "python2"
  },
  "language_info": {
   "codemirror_mode": {
    "name": "ipython",
    "version": 2
   },
   "file_extension": ".py",
   "mimetype": "text/x-python",
   "name": "python",
   "nbconvert_exporter": "python",
   "pygments_lexer": "ipython2",
   "version": "2.7.13"
  }
 },
 "nbformat": 4,
 "nbformat_minor": 2
}
